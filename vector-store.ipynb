{
 "cells": [
  {
   "cell_type": "code",
   "execution_count": 16,
   "metadata": {},
   "outputs": [],
   "source": [
    "#FAISS DB\n",
    "from langchain_community.vectorstores import FAISS\n",
    "from langchain_community.document_loaders import TextLoader\n",
    "from langchain_text_splitters import CharacterTextSplitter\n",
    "from langchain_openai import OpenAIEmbeddings\n",
    "import os\n",
    "from dotenv import load_dotenv\n",
    "load_dotenv()\n",
    "os.environ['OPENAI_API_KEY'] = os.getenv(\"OPENAI_API_KEY\")\n"
   ]
  },
  {
   "cell_type": "code",
   "execution_count": 11,
   "metadata": {},
   "outputs": [
    {
     "name": "stderr",
     "output_type": "stream",
     "text": [
      "Created a chunk of size 339, which is longer than the specified 50\n"
     ]
    },
    {
     "data": {
      "text/plain": [
       "[Document(metadata={'source': 'text-data.txt'}, page_content='AI agents are autonomous programs designed to perceive their environment, process information, and take actions to achieve specific goals. These agents are powered by artificial intelligence technologies such as machine learning (ML), natural language processing (NLP), and reinforcement learning (RL). They can be broadly classified into:'),\n",
       " Document(metadata={'source': 'text-data.txt'}, page_content='Reactive Agents: Respond directly to stimuli without memory.\\nCognitive Agents: Possess memory and reasoning capabilities, enabling planning and adaptation.\\nMulti-Agent Systems (MAS): Composed of multiple agents interacting to solve complex tasks collaboratively or competitively.')]"
      ]
     },
     "execution_count": 11,
     "metadata": {},
     "output_type": "execute_result"
    }
   ],
   "source": [
    "text_splitter=CharacterTextSplitter(\"\\n\\n\",chunk_size=50,chunk_overlap=10)\n",
    "docs=TextLoader('text-data.txt').load_and_split(text_splitter)\n",
    "docs"
   ]
  },
  {
   "cell_type": "code",
   "execution_count": 17,
   "metadata": {},
   "outputs": [],
   "source": [
    "embedding = OpenAIEmbeddings()"
   ]
  },
  {
   "cell_type": "code",
   "execution_count": 20,
   "metadata": {},
   "outputs": [],
   "source": [
    "vector_store=FAISS.from_documents(docs,embedding)"
   ]
  },
  {
   "cell_type": "code",
   "execution_count": 21,
   "metadata": {},
   "outputs": [
    {
     "data": {
      "text/plain": [
       "[Document(metadata={'source': 'text-data.txt'}, page_content='AI agents are autonomous programs designed to perceive their environment, process information, and take actions to achieve specific goals. These agents are powered by artificial intelligence technologies such as machine learning (ML), natural language processing (NLP), and reinforcement learning (RL). They can be broadly classified into:'),\n",
       " Document(metadata={'source': 'text-data.txt'}, page_content='Reactive Agents: Respond directly to stimuli without memory.\\nCognitive Agents: Possess memory and reasoning capabilities, enabling planning and adaptation.\\nMulti-Agent Systems (MAS): Composed of multiple agents interacting to solve complex tasks collaboratively or competitively.')]"
      ]
     },
     "execution_count": 21,
     "metadata": {},
     "output_type": "execute_result"
    }
   ],
   "source": [
    "vector_store.similarity_search(\"AI agents\")"
   ]
  },
  {
   "cell_type": "code",
   "execution_count": 22,
   "metadata": {},
   "outputs": [
    {
     "data": {
      "text/plain": [
       "[(Document(metadata={'source': 'text-data.txt'}, page_content='AI agents are autonomous programs designed to perceive their environment, process information, and take actions to achieve specific goals. These agents are powered by artificial intelligence technologies such as machine learning (ML), natural language processing (NLP), and reinforcement learning (RL). They can be broadly classified into:'),\n",
       "  0.17960113),\n",
       " (Document(metadata={'source': 'text-data.txt'}, page_content='Reactive Agents: Respond directly to stimuli without memory.\\nCognitive Agents: Possess memory and reasoning capabilities, enabling planning and adaptation.\\nMulti-Agent Systems (MAS): Composed of multiple agents interacting to solve complex tasks collaboratively or competitively.'),\n",
       "  0.2890538)]"
      ]
     },
     "execution_count": 22,
     "metadata": {},
     "output_type": "execute_result"
    }
   ],
   "source": [
    "vector_store.similarity_search_with_score(\"AI agents\")"
   ]
  },
  {
   "cell_type": "code",
   "execution_count": 23,
   "metadata": {},
   "outputs": [],
   "source": [
    "# Vector DB as retrivers \n",
    "retriver = vector_store.as_retriever()"
   ]
  },
  {
   "cell_type": "code",
   "execution_count": 24,
   "metadata": {},
   "outputs": [
    {
     "data": {
      "text/plain": [
       "[Document(metadata={'source': 'text-data.txt'}, page_content='AI agents are autonomous programs designed to perceive their environment, process information, and take actions to achieve specific goals. These agents are powered by artificial intelligence technologies such as machine learning (ML), natural language processing (NLP), and reinforcement learning (RL). They can be broadly classified into:'),\n",
       " Document(metadata={'source': 'text-data.txt'}, page_content='Reactive Agents: Respond directly to stimuli without memory.\\nCognitive Agents: Possess memory and reasoning capabilities, enabling planning and adaptation.\\nMulti-Agent Systems (MAS): Composed of multiple agents interacting to solve complex tasks collaboratively or competitively.')]"
      ]
     },
     "execution_count": 24,
     "metadata": {},
     "output_type": "execute_result"
    }
   ],
   "source": [
    "retriver.invoke(\"AI agents\")"
   ]
  },
  {
   "cell_type": "code",
   "execution_count": 25,
   "metadata": {},
   "outputs": [],
   "source": [
    "#Saving vector db in local\n",
    "\n",
    "vector_store.save_local(\"vector-data\")"
   ]
  },
  {
   "cell_type": "code",
   "execution_count": 27,
   "metadata": {},
   "outputs": [],
   "source": [
    "new_vector_db = FAISS.load_local(\"vector-data\",embedding,allow_dangerous_deserialization=True)"
   ]
  },
  {
   "cell_type": "code",
   "execution_count": 28,
   "metadata": {},
   "outputs": [
    {
     "data": {
      "text/plain": [
       "[Document(metadata={'source': 'text-data.txt'}, page_content='AI agents are autonomous programs designed to perceive their environment, process information, and take actions to achieve specific goals. These agents are powered by artificial intelligence technologies such as machine learning (ML), natural language processing (NLP), and reinforcement learning (RL). They can be broadly classified into:'),\n",
       " Document(metadata={'source': 'text-data.txt'}, page_content='Reactive Agents: Respond directly to stimuli without memory.\\nCognitive Agents: Possess memory and reasoning capabilities, enabling planning and adaptation.\\nMulti-Agent Systems (MAS): Composed of multiple agents interacting to solve complex tasks collaboratively or competitively.')]"
      ]
     },
     "execution_count": 28,
     "metadata": {},
     "output_type": "execute_result"
    }
   ],
   "source": [
    "new_vector_db.similarity_search(\"AI Agents\")"
   ]
  },
  {
   "cell_type": "code",
   "execution_count": null,
   "metadata": {},
   "outputs": [],
   "source": []
  }
 ],
 "metadata": {
  "kernelspec": {
   "display_name": "Python 3",
   "language": "python",
   "name": "python3"
  },
  "language_info": {
   "codemirror_mode": {
    "name": "ipython",
    "version": 3
   },
   "file_extension": ".py",
   "mimetype": "text/x-python",
   "name": "python",
   "nbconvert_exporter": "python",
   "pygments_lexer": "ipython3",
   "version": "3.10.15"
  }
 },
 "nbformat": 4,
 "nbformat_minor": 2
}
